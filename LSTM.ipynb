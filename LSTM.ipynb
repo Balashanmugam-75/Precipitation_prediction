{
  "cells": [
    {
      "cell_type": "code",
      "execution_count": null,
      "metadata": {
        "id": "MOvR3XfO7uJ2"
      },
      "outputs": [],
      "source": [
        "import pandas as pd\n",
        "import numpy as np\n",
        "import matplotlib.pyplot as plt\n",
        "import seaborn as sns\n",
        "import tensorflow as tf\n",
        "from sklearn.model_selection import train_test_split\n",
        "from sklearn.preprocessing import MinMaxScaler\n",
        "from sklearn.metrics import mean_squared_error, mean_absolute_error, mean_absolute_percentage_error,r2_score\n",
        "import statsmodels.api as sm\n",
        "from statsmodels.tsa.stattools import adfuller, kpss"
      ]
    },
    {
      "cell_type": "code",
      "execution_count": null,
      "metadata": {
        "id": "tq91kAH6J_Dt"
      },
      "outputs": [],
      "source": [
        "tf.random.set_seed(42)"
      ]
    },
    {
      "cell_type": "code",
      "execution_count": null,
      "metadata": {
        "colab": {
          "base_uri": "https://localhost:8080/",
          "height": 206
        },
        "id": "Ox2h-ffKkH-7",
        "outputId": "bb873a8e-b0e8-453e-d322-e1891b3d553d"
      },
      "outputs": [],
      "source": [
        "raw_data = pd.read_csv('All_tnj_rain_gauge_daily.csv')\n",
        "raw_data.head()"
      ]
    },
    {
      "cell_type": "code",
      "execution_count": null,
      "metadata": {
        "colab": {
          "base_uri": "https://localhost:8080/"
        },
        "id": "gTirFqQIkQ-V",
        "outputId": "2a4edc96-6fd9-4839-833d-b2b5b8c8bdc3"
      },
      "outputs": [],
      "source": [
        "raw_data.dtypes"
      ]
    },
    {
      "cell_type": "code",
      "execution_count": null,
      "metadata": {
        "colab": {
          "base_uri": "https://localhost:8080/"
        },
        "id": "jt4U_2LrkS7_",
        "outputId": "c0e06353-2ec1-496a-e004-254e0a181534"
      },
      "outputs": [],
      "source": [
        "raw_data.isnull().sum()"
      ]
    },
    {
      "cell_type": "code",
      "execution_count": null,
      "metadata": {
        "id": "hzOE84qDmOkH"
      },
      "outputs": [],
      "source": [
        "raw_data.fillna(raw_data.mean(),inplace=True)"
      ]
    },
    {
      "cell_type": "code",
      "execution_count": null,
      "metadata": {
        "colab": {
          "base_uri": "https://localhost:8080/"
        },
        "id": "HZ0sltBFnSnN",
        "outputId": "1be447e3-6ca8-4e05-b20e-adf58e763250"
      },
      "outputs": [],
      "source": [
        "raw_data.isnull().sum()"
      ]
    },
    {
      "cell_type": "code",
      "execution_count": null,
      "metadata": {
        "id": "Te9buvkjnO-R"
      },
      "outputs": [],
      "source": [
        "date = []\n",
        "for i in range(len(raw_data['YEAR'])):\n",
        "  date.append(str(raw_data['YEAR'][i])+'/'+str(raw_data['MO'][i])+'/'+str(raw_data['DY'][i]))"
      ]
    },
    {
      "cell_type": "code",
      "execution_count": null,
      "metadata": {
        "id": "l9bFh9oCoCzb"
      },
      "outputs": [],
      "source": [
        "df = pd.DataFrame()\n",
        "df = raw_data.drop(['YEAR','MO','DY'],axis=1)\n",
        "df['DATE'] = pd.to_datetime(date)"
      ]
    },
    {
      "cell_type": "code",
      "execution_count": null,
      "metadata": {
        "colab": {
          "base_uri": "https://localhost:8080/"
        },
        "id": "iO1d-KLPlcVZ",
        "outputId": "c3a2a315-2298-4c61-db94-5d3434b60e3f"
      },
      "outputs": [],
      "source": [
        "df2 =  df.copy()\n",
        "\n",
        "df2['DATE'] = pd.to_datetime(df2['DATE'])\n",
        "\n",
        "df2.set_index('DATE', inplace=True)\n",
        "\n",
        "alpha = 0.05\n",
        "\n",
        "\n",
        "sample_size = 500\n",
        "\n",
        "\n",
        "sampled_data = df2.sample(n=sample_size, random_state=42)\n",
        "\n",
        "\n",
        "kpss_result = kpss(sampled_data['PRECTOTCORR'])\n",
        "kpss_statistic, kpss_pvalue, _, kpss_crit_values = kpss_result\n",
        "print(\"Kwiatkowski-Phillips-Schmidt-Shin (KPSS) Test (Sampled Data):\")\n",
        "print(f\"KPSS Statistic: {kpss_statistic}\")\n",
        "print(f\"P-value: {kpss_pvalue}\")\n",
        "print(\"Critical Values:\")\n",
        "for key, value in kpss_crit_values.items():\n",
        "    print(f\"{key}: {value}\")\n",
        "if kpss_pvalue <= alpha:\n",
        "    print(\"Result: Reject null hypothesis, trend is not present (stationary).\")\n",
        "else:\n",
        "    print(\"Result: Fail to reject null hypothesis, trend is present (non-stationary).\")\n",
        "\n",
        "\n",
        "adf_result = adfuller(sampled_data['PRECTOTCORR'])\n",
        "adf_statistic = adf_result[0]\n",
        "adf_critical_values = adf_result[4]\n",
        "\n",
        "print(\"Augmented Dickey-Fuller (ADF) Test (Sampled Data):\")\n",
        "print(f\"ADF Statistic: {adf_statistic}\")\n",
        "\n",
        "if adf_statistic < adf_critical_values['5%']:\n",
        "    print(\"Result: Reject null hypothesis, trend is present (non-stationary).\")\n",
        "else:\n",
        "    print(\"Result: Fail to reject null hypothesis, trend is not present (stationary).\")\n"
      ]
    },
    {
      "cell_type": "code",
      "execution_count": null,
      "metadata": {
        "colab": {
          "base_uri": "https://localhost:8080/",
          "height": 678
        },
        "id": "mRKuHVnLlKG_",
        "outputId": "f2cea2ee-9f95-4009-ae86-89d69fe5dc5c"
      },
      "outputs": [],
      "source": [
        "df1 = df.copy()\n",
        "\n",
        "df1['DATE'] = pd.to_datetime(df1['DATE'])\n",
        "\n",
        "\n",
        "df1.set_index('DATE', inplace=True)\n",
        "\n",
        "\n",
        "df1 = df1.resample('M').sum()\n",
        "\n",
        "\n",
        "result = sm.tsa.seasonal_decompose(df1['PRECTOTCORR'], model='additive')\n",
        "\n",
        "plt.figure(figsize=(12, 8))\n",
        "plt.subplot(411)\n",
        "plt.plot(df1['PRECTOTCORR'], label='Original')\n",
        "plt.legend(loc='best')\n",
        "plt.subplot(412)\n",
        "plt.plot(result.trend, label='Trend')\n",
        "plt.legend(loc='best')\n",
        "plt.subplot(413)\n",
        "plt.plot(result.seasonal, label='Seasonal')\n",
        "plt.legend(loc='best')\n",
        "plt.subplot(414)\n",
        "plt.plot(result.resid, label='Residual')\n",
        "plt.legend(loc='best')\n",
        "plt.tight_layout()\n",
        "plt.show()"
      ]
    },
    {
      "cell_type": "code",
      "execution_count": null,
      "metadata": {
        "id": "jYlgEtet26U2"
      },
      "outputs": [],
      "source": [
        "selected_columns = ['T2M', 'T2MDEW', 'T2M_MAX', 'T2M_MIN', 'RH2M', 'PS', 'WS10M', 'PRECTOTCORR']\n",
        "data = df[selected_columns].values\n",
        "\n",
        "scaler = MinMaxScaler()\n",
        "data = scaler.fit_transform(data)"
      ]
    },
    {
      "cell_type": "code",
      "execution_count": null,
      "metadata": {
        "id": "2nVNA8tM3Lxo"
      },
      "outputs": [],
      "source": [
        "train_size = int(len(data) * 0.8)\n",
        "train_data, test_data = data[:train_size], data[train_size:]"
      ]
    },
    {
      "cell_type": "code",
      "execution_count": null,
      "metadata": {
        "id": "b44C7FNn3XL9"
      },
      "outputs": [],
      "source": [
        "def create_sequences(data, look_back=1):\n",
        "    X, y = [], []\n",
        "    for i in range(len(data) - look_back):\n",
        "        X.append(data[i:(i + look_back), :-1])\n",
        "        y.append(data[i + look_back, -1])\n",
        "    return np.array(X), np.array(y)"
      ]
    },
    {
      "cell_type": "code",
      "execution_count": null,
      "metadata": {
        "id": "2Qj2DrZu3cNi"
      },
      "outputs": [],
      "source": [
        "look_back = 10\n",
        "trainX, trainY = create_sequences(train_data, look_back)\n",
        "testX, testY = create_sequences(test_data, look_back)\n",
        "\n",
        "trainX = np.reshape(trainX, (trainX.shape[0], trainX.shape[1], trainX.shape[2]))\n",
        "testX = np.reshape(testX, (testX.shape[0], testX.shape[1], testX.shape[2]))"
      ]
    },
    {
      "cell_type": "code",
      "execution_count": null,
      "metadata": {
        "id": "BCEl6rTg3g3h"
      },
      "outputs": [],
      "source": [
        "def objective_function(hyperparameters):\n",
        "    lstm_units = hyperparameters['lstm_units']\n",
        "    optimizer = 'adam'\n",
        "    epochs = hyperparameters['epochs']\n",
        "    batch_size = hyperparameters['batch_size']\n",
        "\n",
        "    # Create and compile the LSTM model with the given hyperparameters\n",
        "    model = tf.keras.Sequential()\n",
        "    model.add(tf.keras.layers.LSTM(lstm_units, input_shape=(trainX.shape[1], trainX.shape[2])))\n",
        "    model.add(tf.keras.layers.Dense(1))\n",
        "    model.compile(optimizer=optimizer, loss='mean_squared_error')\n",
        "\n",
        "    # Train the model\n",
        "    model.fit(trainX, trainY, epochs=epochs, batch_size=batch_size, verbose=0)\n",
        "\n",
        "    # Make predictions on the test set\n",
        "    y_pred = model.predict(testX)\n",
        "\n",
        "    # Calculate the RMSE as the evaluation metric\n",
        "    rmse = np.sqrt(mean_squared_error(testY, y_pred))\n",
        "    print(rmse)\n",
        "\n",
        "    return rmse"
      ]
    },
    {
      "cell_type": "code",
      "execution_count": null,
      "metadata": {
        "colab": {
          "base_uri": "https://localhost:8080/"
        },
        "id": "qkgCm-5Y3vuC",
        "outputId": "4caec884-d73f-430e-923d-98d948cff68c"
      },
      "outputs": [],
      "source": [
        "population_size = 6\n",
        "max_iterations = 2\n",
        "\n",
        "# Define the search space for hyperparameters\n",
        "search_space = {\n",
        "    'lstm_units': [32, 64, 128],\n",
        "    'epochs': [40, 50],\n",
        "    'batch_size': [32, 64],\n",
        "    # Add more hyperparameters and their ranges here\n",
        "}\n",
        "\n",
        "# Initialize the population with random hyperparameters\n",
        "population = [{'lstm_units': np.random.choice(search_space['lstm_units']),\n",
        "              'epochs': np.random.choice(search_space['epochs']),\n",
        "              'batch_size': np.random.choice(search_space['batch_size'])} for _ in range(population_size)]\n",
        "\n",
        "for iteration in range(max_iterations):\n",
        "    # Calculate fitness values for each set of hyperparameters in the population\n",
        "    fitness = [objective_function(hyperparameters) for hyperparameters in population]\n",
        "\n",
        "    # Find the best and worst solutions in the population\n",
        "    best_index = np.argmin(fitness)\n",
        "    worst_index = np.argmax(fitness)\n",
        "\n",
        "    # Update the position of the Harris hawks (i.e., update hyperparameters)\n",
        "    for i in range(population_size):\n",
        "        if i != best_index:\n",
        "            E0 = np.random.rand()  # Random exploration factor\n",
        "            E1 = 2 * np.random.rand() - 1  # Random exploration factor\n",
        "            E2 = 2 * np.random.rand() - 1  # Random exploration factor\n",
        "            E3 = 2 * np.random.rand() - 1  # Random exploration factor\n",
        "\n",
        "            if fitness[i] > fitness[best_index]:\n",
        "                for param in search_space.keys():\n",
        "                    population[i][param] = int(population[i][param]) + int(E0 * (int(population[best_index][param]) - int(population[i][param])))\n",
        "            if fitness[i] < fitness[best_index]:\n",
        "                for param in search_space.keys():\n",
        "                    population[i][param] = int(population[i][param]) + int(E1 * (int(population[i][param]) - int(population[best_index][param])))\n",
        "\n",
        "            if i != worst_index:\n",
        "              distance = np.linalg.norm(np.array(list(population[worst_index].values())) - np.array(list(population[i].values())))\n",
        "              if distance > 1e-6:\n",
        "                for param in search_space.keys():\n",
        "                  if isinstance(population[i][param], (int, float)):\n",
        "                    population[i][param] = int(population[i][param]) + int(E2 * (population[worst_index][param] - population[i][param]) / distance)\n",
        "                  else:\n",
        "                    population[i][param] = np.array(list(population[i][param])) + E2 * (np.array(list(population[worst_index].values())) - np.array(list(population[i].values()))) / distance\n",
        "              else:\n",
        "                for param in search_space.keys():\n",
        "                  if isinstance(population[i][param], (int, float)):\n",
        "                    population[i][param] = int(population[i][param]) + int(E3 * np.random.rand())\n",
        "                  else:\n",
        "                    population[i][param] = np.array(list(population[i][param])) + E3 * np.random.rand()\n",
        "\n",
        "\n",
        "\n",
        "\n",
        "            # Ensure hyperparameters stay within bounds\n",
        "            for param in search_space.keys():\n",
        "              if isinstance(population[i][param], (int, float)):\n",
        "                population[i][param] = int(np.clip(population[i][param], min(search_space[param]), max(search_space[param])))\n",
        "              else:\n",
        "                population[i][param] = np.clip(population[i][param], min(search_space[param]), max(search_space[param]))\n",
        "\n",
        "# Find the best set of hyperparameters and its corresponding fitness value\n",
        "best_hyperparameters = population[best_index]\n",
        "best_fitness = fitness[best_index]\n",
        "\n",
        "print(\"Best Hyperparameters:\", best_hyperparameters)\n",
        "print(\"Best Fitness Value (RMSE):\", best_fitness)"
      ]
    },
    {
      "cell_type": "code",
      "execution_count": null,
      "metadata": {
        "colab": {
          "base_uri": "https://localhost:8080/"
        },
        "id": "yduWnpJa1kCu",
        "outputId": "3f20aeb6-f6e5-41e1-beef-65a9bc4ac1a5"
      },
      "outputs": [],
      "source": [
        "units = best_hyperparameters['lstm_units']\n",
        "epoch = best_hyperparameters['epochs']\n",
        "batch = best_hyperparameters['batch_size']\n",
        "model_lstm = tf.keras.Sequential()\n",
        "model_lstm.add(tf.keras.layers.LSTM(units, input_shape=(look_back,7)))\n",
        "model_lstm.add(tf.keras.layers.Dense(1))\n",
        "model_lstm.compile(loss='mean_squared_error', optimizer='adam')\n",
        "history_lstm = model_lstm.fit(trainX, trainY,validation_data=(testX,testY), epochs=epoch, batch_size=batch)"
      ]
    },
    {
      "cell_type": "code",
      "execution_count": null,
      "metadata": {
        "colab": {
          "base_uri": "https://localhost:8080/"
        },
        "id": "AC2WXziB3xcS",
        "outputId": "2f0afde7-4572-4b0b-b0a3-703b9bb1c50d"
      },
      "outputs": [],
      "source": [
        "trainPredict = model_lstm.predict(trainX)\n",
        "testPredict = model_lstm.predict(testX)"
      ]
    },
    {
      "cell_type": "code",
      "execution_count": null,
      "metadata": {
        "colab": {
          "base_uri": "https://localhost:8080/"
        },
        "id": "tCpKCGBN8vEM",
        "outputId": "0e1d31de-7694-4bd6-ad72-0912103d68d6"
      },
      "outputs": [],
      "source": [
        "trainScore = np.sqrt(mean_squared_error(trainY, trainPredict))\n",
        "testScore = np.sqrt(mean_squared_error(testY, testPredict))\n",
        "print(f'Train RMSE: {trainScore:.2f}')\n",
        "print(f'Test RMSE: {testScore:.2f}')"
      ]
    },
    {
      "cell_type": "code",
      "execution_count": null,
      "metadata": {
        "colab": {
          "base_uri": "https://localhost:8080/",
          "height": 430
        },
        "id": "HFjNA5_5onoB",
        "outputId": "7c32fd62-6038-4c8b-90cf-9babe12b9ce7"
      },
      "outputs": [],
      "source": [
        "plt.figure()\n",
        "plt.plot(history_lstm.history['loss'],label=\"LOSS\")\n",
        "plt.plot(history_lstm.history['val_loss'],label = \"VALIDATION LOSS\")\n",
        "plt.legend()\n",
        "plt.show()"
      ]
    },
    {
      "cell_type": "code",
      "execution_count": null,
      "metadata": {
        "colab": {
          "base_uri": "https://localhost:8080/",
          "height": 448
        },
        "id": "ncIknGsiTt4a",
        "outputId": "1b5290aa-327e-429e-f2bc-439161615e0a"
      },
      "outputs": [],
      "source": [
        "plt.plot(testY)\n",
        "plt.plot(testPredict)"
      ]
    },
    {
      "cell_type": "code",
      "execution_count": null,
      "metadata": {
        "colab": {
          "base_uri": "https://localhost:8080/"
        },
        "id": "JN5YJUvCT7DJ",
        "outputId": "7d7bea61-a8d3-4d19-b284-cdd5022a31c3"
      },
      "outputs": [],
      "source": [
        "mse = mean_squared_error(testY,testPredict)\n",
        "rmse = np.sqrt(mse)\n",
        "mae = mean_absolute_error(testY,testPredict)\n",
        "r2 = r2_score(testY,testPredict)\n",
        "mbd = np.mean(testPredict - testY)\n",
        "print(f\"mean squared error: {mse}\")\n",
        "print(f\"root mean squared error: {rmse}\")\n",
        "print(f\"mean absolute error: {mae}\")\n",
        "print(f\"mean bias deviation {mbd}\")\n",
        "print(f\"r2_score: {r2}\")"
      ]
    },
    {
      "cell_type": "code",
      "execution_count": null,
      "metadata": {
        "id": "4Ry8Z00TmYbs"
      },
      "outputs": [],
      "source": [
        "df = pd.DataFrame()\n",
        "df['Model'] = 'LSTM'\n",
        "df['MSE'] = mse\n",
        "df['MAE'] =  mae\n",
        "df['MBD'] = mbd\n",
        "df['R2'] = r2\n",
        "\n",
        "df.to_csv(\"LSTM.csv\",index=False)"
      ]
    },
    {
      "cell_type": "code",
      "execution_count": null,
      "metadata": {
        "id": "sFhLynkKBOH_"
      },
      "outputs": [],
      "source": []
    }
  ],
  "metadata": {
    "accelerator": "GPU",
    "colab": {
      "provenance": []
    },
    "kernelspec": {
      "display_name": "Python 3",
      "name": "python3"
    },
    "language_info": {
      "name": "python"
    }
  },
  "nbformat": 4,
  "nbformat_minor": 0
}
